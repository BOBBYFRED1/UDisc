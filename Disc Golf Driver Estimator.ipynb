{
 "cells": [
  {
   "cell_type": "code",
   "execution_count": 143,
   "metadata": {},
   "outputs": [],
   "source": [
    "import pandas as pd\n",
    "import numpy as np\n",
    "import statsmodels.api as sm\n",
    "from sklearn import linear_model"
   ]
  },
  {
   "cell_type": "markdown",
   "metadata": {},
   "source": [
    "1. The following is the rundown of using Turn, Fade, and Net as independent variables."
   ]
  },
  {
   "cell_type": "code",
   "execution_count": 38,
   "metadata": {
    "scrolled": false
   },
   "outputs": [
    {
     "data": {
      "text/html": [
       "<div>\n",
       "<style scoped>\n",
       "    .dataframe tbody tr th:only-of-type {\n",
       "        vertical-align: middle;\n",
       "    }\n",
       "\n",
       "    .dataframe tbody tr th {\n",
       "        vertical-align: top;\n",
       "    }\n",
       "\n",
       "    .dataframe thead th {\n",
       "        text-align: right;\n",
       "    }\n",
       "</style>\n",
       "<table border=\"1\" class=\"dataframe\">\n",
       "  <thead>\n",
       "    <tr style=\"text-align: right;\">\n",
       "      <th></th>\n",
       "      <th>Disc</th>\n",
       "      <th>Manufacturer</th>\n",
       "      <th>Disc Type</th>\n",
       "      <th>Distance</th>\n",
       "      <th>Turn</th>\n",
       "      <th>Fade</th>\n",
       "      <th>Net</th>\n",
       "    </tr>\n",
       "  </thead>\n",
       "  <tbody>\n",
       "    <tr>\n",
       "      <th>0</th>\n",
       "      <td>Delirium</td>\n",
       "      <td>Axiom</td>\n",
       "      <td>Distance Driver</td>\n",
       "      <td>461</td>\n",
       "      <td>-0.10</td>\n",
       "      <td>0.60</td>\n",
       "      <td>0.50</td>\n",
       "    </tr>\n",
       "    <tr>\n",
       "      <th>1</th>\n",
       "      <td>Raketen</td>\n",
       "      <td>Latitude 64</td>\n",
       "      <td>Distance Driver</td>\n",
       "      <td>459</td>\n",
       "      <td>-0.34</td>\n",
       "      <td>0.62</td>\n",
       "      <td>0.28</td>\n",
       "    </tr>\n",
       "    <tr>\n",
       "      <th>2</th>\n",
       "      <td>Corvette</td>\n",
       "      <td>Innova</td>\n",
       "      <td>Distance Driver</td>\n",
       "      <td>456</td>\n",
       "      <td>-0.19</td>\n",
       "      <td>0.39</td>\n",
       "      <td>0.20</td>\n",
       "    </tr>\n",
       "    <tr>\n",
       "      <th>3</th>\n",
       "      <td>Cannon</td>\n",
       "      <td>Legacy</td>\n",
       "      <td>Distance Driver</td>\n",
       "      <td>456</td>\n",
       "      <td>-0.44</td>\n",
       "      <td>0.49</td>\n",
       "      <td>0.05</td>\n",
       "    </tr>\n",
       "    <tr>\n",
       "      <th>4</th>\n",
       "      <td>Rampage</td>\n",
       "      <td>Legacy</td>\n",
       "      <td>Distance Driver</td>\n",
       "      <td>456</td>\n",
       "      <td>-0.17</td>\n",
       "      <td>0.77</td>\n",
       "      <td>0.60</td>\n",
       "    </tr>\n",
       "  </tbody>\n",
       "</table>\n",
       "</div>"
      ],
      "text/plain": [
       "       Disc Manufacturer        Disc Type  Distance  Turn  Fade   Net\n",
       "0  Delirium        Axiom  Distance Driver       461 -0.10  0.60  0.50\n",
       "1   Raketen  Latitude 64  Distance Driver       459 -0.34  0.62  0.28\n",
       "2  Corvette       Innova  Distance Driver       456 -0.19  0.39  0.20\n",
       "3    Cannon       Legacy  Distance Driver       456 -0.44  0.49  0.05\n",
       "4   Rampage       Legacy  Distance Driver       456 -0.17  0.77  0.60"
      ]
     },
     "execution_count": 38,
     "metadata": {},
     "output_type": "execute_result"
    }
   ],
   "source": [
    "disc = pd.read_csv(\"disc.csv\")\n",
    "disc.head()"
   ]
  },
  {
   "cell_type": "code",
   "execution_count": 135,
   "metadata": {},
   "outputs": [
    {
     "data": {
      "text/plain": [
       "LinearRegression()"
      ]
     },
     "execution_count": 135,
     "metadata": {},
     "output_type": "execute_result"
    }
   ],
   "source": [
    "reg = linear_model.LinearRegression()\n",
    "reg.fit(disc[['Turn', 'Fade', 'Net']], disc.Distance)"
   ]
  },
  {
   "cell_type": "code",
   "execution_count": 128,
   "metadata": {},
   "outputs": [
    {
     "data": {
      "text/plain": [
       "array([-22.575374  ,  21.84902059,  -0.72635341])"
      ]
     },
     "execution_count": 128,
     "metadata": {},
     "output_type": "execute_result"
    }
   ],
   "source": [
    "reg.coef_"
   ]
  },
  {
   "cell_type": "code",
   "execution_count": 129,
   "metadata": {},
   "outputs": [
    {
     "data": {
      "text/plain": [
       "394.3378992952928"
      ]
     },
     "execution_count": 129,
     "metadata": {},
     "output_type": "execute_result"
    }
   ],
   "source": [
    "reg.intercept_"
   ]
  },
  {
   "cell_type": "code",
   "execution_count": 130,
   "metadata": {
    "scrolled": true
   },
   "outputs": [
    {
     "data": {
      "text/plain": [
       "array([407.08413494])"
      ]
     },
     "execution_count": 130,
     "metadata": {},
     "output_type": "execute_result"
    }
   ],
   "source": [
    "reg.predict([[-.1, .5, .6]])"
   ]
  },
  {
   "cell_type": "code",
   "execution_count": 131,
   "metadata": {},
   "outputs": [
    {
     "name": "stdout",
     "output_type": "stream",
     "text": [
      "0.019952711912810117\n"
     ]
    }
   ],
   "source": [
    "X = sm.add_constant(disc[['Turn', 'Fade', 'Net']])\n",
    "model = sm.OLS(disc.Distance, X).fit()\n",
    "print(model.rsquared_adj)"
   ]
  },
  {
   "cell_type": "code",
   "execution_count": 132,
   "metadata": {},
   "outputs": [],
   "source": [
    "run = []\n",
    "dist = []\n",
    "for i in range(0, 340):\n",
    "    j = disc['Turn'].iloc[i]\n",
    "    k = disc['Fade'].iloc[i]\n",
    "    l = disc['Net'].iloc[i]\n",
    "    m = disc['Distance'].iloc[i]\n",
    "    n = reg.predict([[j, k, l]])\n",
    "    run.append(float(n))\n",
    "    dist.append(m)"
   ]
  },
  {
   "cell_type": "code",
   "execution_count": 133,
   "metadata": {
    "scrolled": true
   },
   "outputs": [
    {
     "data": {
      "text/plain": [
       "array([[461, 459, 456, 456, 456, 456, 455, 454, 454, 453, 453, 453, 452,\n",
       "        451, 451, 451, 450, 450, 450, 450, 448, 448, 447, 445, 444, 444,\n",
       "        444, 444, 443, 443, 443, 443, 442, 442, 442, 442, 441, 441, 440,\n",
       "        440, 440, 439, 439, 439, 439, 439, 439, 439, 439, 439, 439, 438,\n",
       "        438, 438, 438, 438, 438, 438, 438, 438, 437, 437, 437, 437, 437,\n",
       "        436, 436, 436, 436, 436, 436, 436, 436, 435, 435, 435, 435, 435,\n",
       "        435, 435, 435, 435, 435, 435, 435, 435, 435, 435, 435, 434, 434,\n",
       "        434, 434, 434, 433, 433, 433, 433, 433, 432, 432, 432, 432, 432,\n",
       "        432, 431, 431, 431, 431, 431, 431, 431, 431, 431, 431, 431, 430,\n",
       "        428, 426, 425, 425, 425, 425, 424, 424, 423, 422, 422, 421, 421,\n",
       "        421, 421, 421, 420, 420, 420, 420, 420, 420, 419, 419, 419, 419,\n",
       "        419, 419, 418, 418, 418, 418, 418, 418, 418, 418, 418, 418, 418,\n",
       "        418, 418, 418, 417, 417, 417, 417, 417, 417, 417, 417, 417, 417,\n",
       "        417, 416, 416, 416, 416, 416, 415, 415, 415, 415, 415, 414, 414,\n",
       "        414, 413, 413, 412, 411, 411, 411, 411, 409, 408, 408, 408, 407,\n",
       "        407, 406, 406, 405, 405, 404, 404, 404, 404, 404, 404, 404, 403,\n",
       "        403, 403, 403, 402, 402, 402, 402, 402, 401, 401, 401, 401, 401,\n",
       "        401, 401, 401, 401, 400, 400, 400, 400, 400, 400, 399, 399, 398,\n",
       "        397, 396, 396, 396, 396, 396, 395, 395, 394, 394, 394, 394, 393,\n",
       "        393, 393, 393, 393, 393, 393, 392, 392, 391, 391, 391, 390, 390,\n",
       "        390, 389, 387, 387, 386, 385, 385, 385, 385, 385, 385, 385, 384,\n",
       "        384, 384, 384, 384, 384, 384, 383, 383, 383, 382, 382, 381, 381,\n",
       "        381, 381, 380, 379, 379, 379, 379, 379, 378, 378, 378, 377, 377,\n",
       "        376, 375, 372, 372, 372, 371, 371, 371, 370, 369, 368, 368, 368,\n",
       "        367, 367, 366, 366, 366, 365, 365, 363, 362, 361, 361, 359, 359,\n",
       "        359, 358, 356, 355, 354, 352, 350, 348, 348, 348, 347, 345, 345,\n",
       "        344, 242]], dtype=int64)"
      ]
     },
     "execution_count": 133,
     "metadata": {},
     "output_type": "execute_result"
    }
   ],
   "source": [
    "run = np.array(run)\n",
    "dist = np.array(dist)\n",
    "run.reshape(1, -1)\n",
    "dist.reshape(1, -1)"
   ]
  },
  {
   "cell_type": "markdown",
   "metadata": {},
   "source": [
    "2. The following is the rundown of using Turn, Fade, Net, as well as an equally distributed arbitrary value used to tag the Manufacturer (denoted in column headed \"-1\")."
   ]
  },
  {
   "cell_type": "code",
   "execution_count": 56,
   "metadata": {},
   "outputs": [
    {
     "data": {
      "text/html": [
       "<div>\n",
       "<style scoped>\n",
       "    .dataframe tbody tr th:only-of-type {\n",
       "        vertical-align: middle;\n",
       "    }\n",
       "\n",
       "    .dataframe tbody tr th {\n",
       "        vertical-align: top;\n",
       "    }\n",
       "\n",
       "    .dataframe thead th {\n",
       "        text-align: right;\n",
       "    }\n",
       "</style>\n",
       "<table border=\"1\" class=\"dataframe\">\n",
       "  <thead>\n",
       "    <tr style=\"text-align: right;\">\n",
       "      <th></th>\n",
       "      <th>Disc</th>\n",
       "      <th>Manufacturer</th>\n",
       "      <th>Disc Type</th>\n",
       "      <th>Distance</th>\n",
       "      <th>Turn</th>\n",
       "      <th>Fade</th>\n",
       "      <th>Net</th>\n",
       "      <th>-1</th>\n",
       "    </tr>\n",
       "  </thead>\n",
       "  <tbody>\n",
       "    <tr>\n",
       "      <th>0</th>\n",
       "      <td>Bee Line</td>\n",
       "      <td>ABC</td>\n",
       "      <td>Distance Driver</td>\n",
       "      <td>435</td>\n",
       "      <td>-0.52</td>\n",
       "      <td>0.39</td>\n",
       "      <td>-0.13</td>\n",
       "      <td>-0.9649</td>\n",
       "    </tr>\n",
       "    <tr>\n",
       "      <th>1</th>\n",
       "      <td>Gamma Ray</td>\n",
       "      <td>ABC</td>\n",
       "      <td>Distance Driver</td>\n",
       "      <td>401</td>\n",
       "      <td>-0.38</td>\n",
       "      <td>0.38</td>\n",
       "      <td>0.00</td>\n",
       "      <td>-0.9649</td>\n",
       "    </tr>\n",
       "    <tr>\n",
       "      <th>2</th>\n",
       "      <td>Secret Weapon</td>\n",
       "      <td>ABC</td>\n",
       "      <td>Distance Driver</td>\n",
       "      <td>379</td>\n",
       "      <td>-0.51</td>\n",
       "      <td>0.35</td>\n",
       "      <td>-0.16</td>\n",
       "      <td>-0.9649</td>\n",
       "    </tr>\n",
       "    <tr>\n",
       "      <th>3</th>\n",
       "      <td>Cypress</td>\n",
       "      <td>Above Ground Level Discs</td>\n",
       "      <td>Distance Driver</td>\n",
       "      <td>414</td>\n",
       "      <td>0.00</td>\n",
       "      <td>0.78</td>\n",
       "      <td>0.78</td>\n",
       "      <td>-0.9298</td>\n",
       "    </tr>\n",
       "    <tr>\n",
       "      <th>4</th>\n",
       "      <td>D Model Distance Driver S</td>\n",
       "      <td>ACE Disc Sports</td>\n",
       "      <td>Distance Driver</td>\n",
       "      <td>440</td>\n",
       "      <td>0.00</td>\n",
       "      <td>0.39</td>\n",
       "      <td>0.39</td>\n",
       "      <td>-0.8947</td>\n",
       "    </tr>\n",
       "  </tbody>\n",
       "</table>\n",
       "</div>"
      ],
      "text/plain": [
       "                        Disc              Manufacturer        Disc Type  \\\n",
       "0                   Bee Line                       ABC  Distance Driver   \n",
       "1                  Gamma Ray                       ABC  Distance Driver   \n",
       "2              Secret Weapon                       ABC  Distance Driver   \n",
       "3                    Cypress  Above Ground Level Discs  Distance Driver   \n",
       "4  D Model Distance Driver S           ACE Disc Sports  Distance Driver   \n",
       "\n",
       "   Distance  Turn  Fade   Net      -1  \n",
       "0       435 -0.52  0.39 -0.13 -0.9649  \n",
       "1       401 -0.38  0.38  0.00 -0.9649  \n",
       "2       379 -0.51  0.35 -0.16 -0.9649  \n",
       "3       414  0.00  0.78  0.78 -0.9298  \n",
       "4       440  0.00  0.39  0.39 -0.8947  "
      ]
     },
     "execution_count": 56,
     "metadata": {},
     "output_type": "execute_result"
    }
   ],
   "source": [
    "disc1 = pd.read_csv(\"disc - Copy.csv\")\n",
    "disc1.head()"
   ]
  },
  {
   "cell_type": "code",
   "execution_count": 57,
   "metadata": {},
   "outputs": [
    {
     "data": {
      "text/plain": [
       "LinearRegression()"
      ]
     },
     "execution_count": 57,
     "metadata": {},
     "output_type": "execute_result"
    }
   ],
   "source": [
    "reg1 = linear_model.LinearRegression()\n",
    "reg1.fit(disc1[['Turn', 'Fade', 'Net', '-1']], disc1.Distance)"
   ]
  },
  {
   "cell_type": "code",
   "execution_count": 58,
   "metadata": {},
   "outputs": [
    {
     "data": {
      "text/plain": [
       "array([ 3.30326366e+15,  3.30326366e+15, -3.30326366e+15, -4.76562500e-01])"
      ]
     },
     "execution_count": 58,
     "metadata": {},
     "output_type": "execute_result"
    }
   ],
   "source": [
    "reg1.coef_"
   ]
  },
  {
   "cell_type": "code",
   "execution_count": 59,
   "metadata": {},
   "outputs": [
    {
     "data": {
      "text/plain": [
       "395.9235294117647"
      ]
     },
     "execution_count": 59,
     "metadata": {},
     "output_type": "execute_result"
    }
   ],
   "source": [
    "reg1.intercept_"
   ]
  },
  {
   "cell_type": "code",
   "execution_count": 61,
   "metadata": {},
   "outputs": [
    {
     "data": {
      "text/plain": [
       "array([-6.60652732e+14])"
      ]
     },
     "execution_count": 61,
     "metadata": {},
     "output_type": "execute_result"
    }
   ],
   "source": [
    "reg1.predict([[-.1, .5, .6, -0.0874]])"
   ]
  },
  {
   "cell_type": "code",
   "execution_count": 144,
   "metadata": {},
   "outputs": [
    {
     "name": "stdout",
     "output_type": "stream",
     "text": [
      "0.017117030926530052\n"
     ]
    }
   ],
   "source": [
    "X1 = sm.add_constant(disc1[['Turn', 'Fade', 'Net', '-1']])\n",
    "model1 = sm.OLS(disc1.Distance, X1).fit()\n",
    "print(model1.rsquared_adj)"
   ]
  },
  {
   "cell_type": "markdown",
   "metadata": {},
   "source": [
    "3. The following is the rundown of just using Turn and Fade as independent variables."
   ]
  },
  {
   "cell_type": "code",
   "execution_count": 138,
   "metadata": {},
   "outputs": [
    {
     "data": {
      "text/plain": [
       "LinearRegression()"
      ]
     },
     "execution_count": 138,
     "metadata": {},
     "output_type": "execute_result"
    }
   ],
   "source": [
    "reg2 = linear_model.LinearRegression()\n",
    "reg2.fit(disc[['Turn', 'Fade']], disc.Distance)"
   ]
  },
  {
   "cell_type": "code",
   "execution_count": 139,
   "metadata": {},
   "outputs": [
    {
     "data": {
      "text/plain": [
       "array([-23.30172741,  21.12266718])"
      ]
     },
     "execution_count": 139,
     "metadata": {},
     "output_type": "execute_result"
    }
   ],
   "source": [
    "reg2.coef_"
   ]
  },
  {
   "cell_type": "code",
   "execution_count": 140,
   "metadata": {},
   "outputs": [
    {
     "data": {
      "text/plain": [
       "394.3378992952928"
      ]
     },
     "execution_count": 140,
     "metadata": {},
     "output_type": "execute_result"
    }
   ],
   "source": [
    "reg2.intercept_"
   ]
  },
  {
   "cell_type": "code",
   "execution_count": 141,
   "metadata": {},
   "outputs": [
    {
     "data": {
      "text/plain": [
       "array([407.22940563])"
      ]
     },
     "execution_count": 141,
     "metadata": {},
     "output_type": "execute_result"
    }
   ],
   "source": [
    "reg2.predict([[-.1, .5]])"
   ]
  },
  {
   "cell_type": "code",
   "execution_count": 142,
   "metadata": {},
   "outputs": [
    {
     "name": "stdout",
     "output_type": "stream",
     "text": [
      "0.01995271191281034\n"
     ]
    }
   ],
   "source": [
    "X2 = sm.add_constant(disc[['Turn', 'Fade']])\n",
    "model2 = sm.OLS(disc.Distance, X2).fit()\n",
    "print(model2.rsquared_adj)"
   ]
  },
  {
   "cell_type": "markdown",
   "metadata": {},
   "source": [
    "4. The following is the rundown of just using Turn as an independent variable."
   ]
  },
  {
   "cell_type": "code",
   "execution_count": 145,
   "metadata": {},
   "outputs": [
    {
     "data": {
      "text/plain": [
       "LinearRegression()"
      ]
     },
     "execution_count": 145,
     "metadata": {},
     "output_type": "execute_result"
    }
   ],
   "source": [
    "reg3 = linear_model.LinearRegression()\n",
    "reg3.fit(disc[['Turn']], disc.Distance)"
   ]
  },
  {
   "cell_type": "code",
   "execution_count": 146,
   "metadata": {},
   "outputs": [
    {
     "data": {
      "text/plain": [
       "array([-13.16039308])"
      ]
     },
     "execution_count": 146,
     "metadata": {},
     "output_type": "execute_result"
    }
   ],
   "source": [
    "reg3.coef_"
   ]
  },
  {
   "cell_type": "code",
   "execution_count": 147,
   "metadata": {},
   "outputs": [
    {
     "data": {
      "text/plain": [
       "407.4175408038969"
      ]
     },
     "execution_count": 147,
     "metadata": {},
     "output_type": "execute_result"
    }
   ],
   "source": [
    "reg3.intercept_"
   ]
  },
  {
   "cell_type": "code",
   "execution_count": 148,
   "metadata": {},
   "outputs": [
    {
     "data": {
      "text/plain": [
       "array([408.73358011])"
      ]
     },
     "execution_count": 148,
     "metadata": {},
     "output_type": "execute_result"
    }
   ],
   "source": [
    "reg3.predict([[-.1]])"
   ]
  },
  {
   "cell_type": "code",
   "execution_count": 149,
   "metadata": {},
   "outputs": [
    {
     "name": "stdout",
     "output_type": "stream",
     "text": [
      "0.008650304650240859\n"
     ]
    }
   ],
   "source": [
    "X3 = sm.add_constant(disc[['Turn']])\n",
    "model3 = sm.OLS(disc.Distance, X3).fit()\n",
    "print(model3.rsquared_adj)"
   ]
  },
  {
   "cell_type": "markdown",
   "metadata": {},
   "source": [
    "5. The following is the rundown of just using Fade as an independent variable."
   ]
  },
  {
   "cell_type": "code",
   "execution_count": 150,
   "metadata": {},
   "outputs": [
    {
     "data": {
      "text/plain": [
       "LinearRegression()"
      ]
     },
     "execution_count": 150,
     "metadata": {},
     "output_type": "execute_result"
    }
   ],
   "source": [
    "reg4 = linear_model.LinearRegression()\n",
    "reg4.fit(disc[['Fade']], disc.Distance)"
   ]
  },
  {
   "cell_type": "code",
   "execution_count": 151,
   "metadata": {},
   "outputs": [
    {
     "data": {
      "text/plain": [
       "array([5.26297352])"
      ]
     },
     "execution_count": 151,
     "metadata": {},
     "output_type": "execute_result"
    }
   ],
   "source": [
    "reg4.coef_"
   ]
  },
  {
   "cell_type": "code",
   "execution_count": 152,
   "metadata": {},
   "outputs": [
    {
     "data": {
      "text/plain": [
       "407.74173481858304"
      ]
     },
     "execution_count": 152,
     "metadata": {},
     "output_type": "execute_result"
    }
   ],
   "source": [
    "reg4.intercept_"
   ]
  },
  {
   "cell_type": "code",
   "execution_count": 157,
   "metadata": {},
   "outputs": [
    {
     "data": {
      "text/plain": [
       "array([410.37322158])"
      ]
     },
     "execution_count": 157,
     "metadata": {},
     "output_type": "execute_result"
    }
   ],
   "source": [
    "reg4.predict([[.5]])"
   ]
  },
  {
   "cell_type": "code",
   "execution_count": 154,
   "metadata": {},
   "outputs": [
    {
     "name": "stdout",
     "output_type": "stream",
     "text": [
      "-0.001648931213076521\n"
     ]
    }
   ],
   "source": [
    "X4 = sm.add_constant(disc[['Fade']])\n",
    "model4 = sm.OLS(disc.Distance, X4).fit()\n",
    "print(model4.rsquared_adj)"
   ]
  },
  {
   "cell_type": "code",
   "execution_count": null,
   "metadata": {},
   "outputs": [],
   "source": []
  }
 ],
 "metadata": {
  "kernelspec": {
   "display_name": "Python 3",
   "language": "python",
   "name": "python3"
  },
  "language_info": {
   "codemirror_mode": {
    "name": "ipython",
    "version": 3
   },
   "file_extension": ".py",
   "mimetype": "text/x-python",
   "name": "python",
   "nbconvert_exporter": "python",
   "pygments_lexer": "ipython3",
   "version": "3.8.5"
  }
 },
 "nbformat": 4,
 "nbformat_minor": 4
}
